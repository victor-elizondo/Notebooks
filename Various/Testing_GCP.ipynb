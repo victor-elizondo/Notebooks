{
 "metadata": {
  "language_info": {
   "codemirror_mode": {
    "name": "ipython",
    "version": 3
   },
   "file_extension": ".py",
   "mimetype": "text/x-python",
   "name": "python",
   "nbconvert_exporter": "python",
   "pygments_lexer": "ipython3",
   "version": "3.8.3-final"
  },
  "orig_nbformat": 2,
  "kernelspec": {
   "name": "python38364bitenv2condabd60e48de1654f359f273267387913d1",
   "display_name": "Python 3.8.3 64-bit ('env2': conda)"
  }
 },
 "nbformat": 4,
 "nbformat_minor": 2,
 "cells": [
  {
   "cell_type": "code",
   "execution_count": 1,
   "metadata": {},
   "outputs": [],
   "source": [
    "\n",
    "#Probado con env2\n",
    "\n",
    "from google.cloud import storage\n",
    "from google.cloud import bigquery\n",
    "import google.cloud\n",
    "from google.oauth2 import service_account\n",
    "import pandas_gbq as gbq\n",
    "import pandas as pd\n",
    "import datetime"
   ]
  },
  {
   "cell_type": "code",
   "execution_count": 2,
   "metadata": {},
   "outputs": [],
   "source": [
    "WORKING_BUCKET = \"asientos_xp_prod\"\n",
    "CREDENTIALS_FILENAME = \"credentials.json\"\n",
    "GCP_PROJECT_ID = \"bc-ed-advaa-dev-nc0h\""
   ]
  },
  {
   "cell_type": "code",
   "execution_count": 3,
   "metadata": {},
   "outputs": [],
   "source": [
    "query = \"\"\"\n",
    "SELECT A.msttkt,\n",
    "tktnbr,\n",
    "cupon,\n",
    "A.pnr_date,\n",
    "concat(tktnbr, \"_\",A.pnr_date,\"_\",cupon) AS id_fila,\n",
    "adv_purchase,\n",
    "estadia, \n",
    "seg_fare,\n",
    "trip_fare, \n",
    "ato_org_seg, \n",
    "ato_des_seg,\n",
    "--IF(paid_free_awd= 'AWARD',1,0) AS award_flag,\n",
    "--IF(paid_free_awd= 'PAID',1,0) AS paid_flag,\n",
    "SUBSTR(nights_stay, 0, 1) AS staynight_0,\n",
    "SUBSTR(nights_stay, 1, 1) AS staynight_1,\n",
    "SUBSTR(nights_stay, 2, 1) AS staynight_2,\n",
    "SUBSTR(nights_stay, 3, 1) AS staynight_3,\n",
    "SUBSTR(nights_stay, 4, 1) AS staynight_4,\n",
    "SUBSTR(nights_stay, 5, 1) AS staynight_5,\n",
    "SUBSTR(nights_stay, 6, 1) AS staynight_6,\n",
    "num_vlo_op ,\n",
    "child_flag ,\n",
    "infant_flag,\n",
    "NEGOCIO,\n",
    "branded_fare ,\n",
    "numero_pax ,\n",
    "numero_trips_res,\n",
    "EXTRACT (HOUR FROM dep_datetime) AS hora_salida,\n",
    "EXTRACT (MONTH FROM dep_datetime) AS mes_salida,\n",
    "EXTRACT (HOUR FROM arr_datetime) AS hora_llegada,\n",
    "IF(DATETIME_DIFF(arr_datetime,dep_datetime, MINUTE)>0,DATETIME_DIFF(arr_datetime,dep_datetime, MINUTE),NULL) AS duracion,\n",
    "distancia,\n",
    "IF(rt_flag ='RT',1,0) AS round_trip_flag,\n",
    "score_corporate,\n",
    "n_segmentos_lh_cliente,\n",
    "numero_segmentos_cliente,\n",
    "numero_reservas_cliente,\n",
    "n_segmentos_business_cliente,\n",
    "n_compras_asientos_cliente,\n",
    "n_compras_laam_mas_cliente,\n",
    "proporcion_compra_asiento_cliente,\n",
    "n_canjes_cliente,\n",
    "avg_fare_pnr_cliente,\n",
    "avg_ap_cliente,\n",
    "awarded_flag,\n",
    "--avg_corp_score_cliente,\n",
    "--(ancillary_fare_seat_selection) AS ancillary_fare_seat_selection,\n",
    "--(ancillary_fare_latam_mas) AS ancillary_fare_latam_mas,\n",
    "\n",
    "\n",
    "FROM `XP.master_asientos_predict_table` A \n",
    "LEFT JOIN `XP.OUTPUT_SEATS_EC` B\n",
    "ON A.msttkt = B.msttkt\n",
    "AND CAST(A.pnr_date AS STRING) = B.pnr_date \n",
    "WHERE pos='EC'\n",
    "AND B.msttkt IS NULL --incremental \n",
    "AND  A.pnr_date IS NOT NULL\n",
    "\"\"\""
   ]
  },
  {
   "cell_type": "code",
   "execution_count": null,
   "metadata": {},
   "outputs": [],
   "source": []
  },
  {
   "cell_type": "code",
   "execution_count": 6,
   "metadata": {},
   "outputs": [],
   "source": [
    "credentials = service_account.Credentials.from_service_account_file(\n",
    "    'service_account.json',\n",
    "    scopes=[\"https://www.googleapis.com/auth/cloud-platform\"],\n",
    "    )"
   ]
  },
  {
   "cell_type": "code",
   "execution_count": 10,
   "metadata": {},
   "outputs": [],
   "source": [
    "datos=gbq.read_gbq(query,project_id=GCP_PROJECT_ID ,dialect='standard', credentials=credentials)"
   ]
  },
  {
   "cell_type": "code",
   "execution_count": 11,
   "metadata": {},
   "outputs": [
    {
     "output_type": "execute_result",
     "data": {
      "text/plain": "             msttkt         tktnbr  cupon   pnr_date  \\\n0     4622133359811  4622133359811      4 2020-03-11   \n1     4623384943639  4623384943639      1 2020-02-03   \n2     4622133421434  4622133421434      1 2020-09-10   \n3     4622133387250  4622133387250      1 2020-09-09   \n4     4622133415165  4622133415165      1 2020-09-10   \n...             ...            ...    ...        ...   \n2059  4622133426878  4622133426878      2 2020-09-10   \n2060  4622133426878  4622133426878      1 2020-09-10   \n2061  4622133383720  4622133383720      2 2020-09-09   \n2062  4622133422066  4622133422066      3 2020-09-10   \n2063  4622133373424  4622133373424      1 2020-09-09   \n\n                         id_fila  adv_purchase  estadia    seg_fare  \\\n0     4622133359811_2020-03-11_4           185       32   11.819328   \n1     4623384943639_2020-02-03_1            53       26  182.500000   \n2     4622133421434_2020-09-10_1             9       43   85.000000   \n3     4622133387250_2020-09-09_1           100       45   16.308000   \n4     4622133415165_2020-09-10_1            46       94  108.250000   \n...                          ...           ...      ...         ...   \n2059  4622133426878_2020-09-10_2            48       19  259.900000   \n2060  4622133426878_2020-09-10_1            48       19  208.380000   \n2061  4622133383720_2020-09-09_2             5       20   36.000000   \n2062  4622133422066_2020-09-10_3            25       21   22.158243   \n2063  4622133373424_2020-09-09_1             5       22   16.800000   \n\n       trip_fare ato_org_seg  ... numero_segmentos_cliente  \\\n0      93.897993         GYE  ...                      NaN   \n1     182.500000         GYE  ...                      NaN   \n2      85.000000         GYE  ...                      NaN   \n3      76.788000         GYE  ...                      NaN   \n4     108.250000         GYE  ...                      NaN   \n...          ...         ...  ...                      ...   \n2059  259.900000         JFK  ...                      5.0   \n2060  208.380000         GYE  ...                      5.0   \n2061   36.000000         CUE  ...                      9.0   \n2062  419.000000         UIO  ...                      NaN   \n2063   16.800000         UIO  ...                      NaN   \n\n     numero_reservas_cliente n_segmentos_business_cliente  \\\n0                        NaN                          NaN   \n1                        NaN                          NaN   \n2                        NaN                          NaN   \n3                        NaN                          NaN   \n4                        NaN                          NaN   \n...                      ...                          ...   \n2059                     3.0                          0.0   \n2060                     3.0                          0.0   \n2061                     5.0                          0.0   \n2062                     NaN                          NaN   \n2063                     NaN                          NaN   \n\n     n_compras_asientos_cliente n_compras_laam_mas_cliente  \\\n0                           NaN                        NaN   \n1                           NaN                        NaN   \n2                           NaN                        NaN   \n3                           NaN                        NaN   \n4                           NaN                        NaN   \n...                         ...                        ...   \n2059                        0.0                        0.0   \n2060                        0.0                        0.0   \n2061                        0.0                        0.0   \n2062                        NaN                        NaN   \n2063                        NaN                        NaN   \n\n     proporcion_compra_asiento_cliente n_canjes_cliente avg_fare_pnr_cliente  \\\n0                                  NaN              NaN                  NaN   \n1                                  NaN              NaN                  NaN   \n2                                  NaN              NaN                  NaN   \n3                                  NaN              NaN                  NaN   \n4                                  NaN              NaN                  NaN   \n...                                ...              ...                  ...   \n2059                               0.0              0.0             60.25417   \n2060                               0.0              0.0             60.25417   \n2061                               0.0              0.0            182.73600   \n2062                               NaN              NaN                  NaN   \n2063                               NaN              NaN                  NaN   \n\n      avg_ap_cliente  awarded_flag  \n0                NaN             0  \n1                NaN             0  \n2                NaN             0  \n3                NaN             1  \n4                NaN             0  \n...              ...           ...  \n2059       32.800000             0  \n2060       32.800000             0  \n2061        4.444444             0  \n2062             NaN             0  \n2063             NaN             1  \n\n[2064 rows x 43 columns]",
      "text/html": "<div>\n<style scoped>\n    .dataframe tbody tr th:only-of-type {\n        vertical-align: middle;\n    }\n\n    .dataframe tbody tr th {\n        vertical-align: top;\n    }\n\n    .dataframe thead th {\n        text-align: right;\n    }\n</style>\n<table border=\"1\" class=\"dataframe\">\n  <thead>\n    <tr style=\"text-align: right;\">\n      <th></th>\n      <th>msttkt</th>\n      <th>tktnbr</th>\n      <th>cupon</th>\n      <th>pnr_date</th>\n      <th>id_fila</th>\n      <th>adv_purchase</th>\n      <th>estadia</th>\n      <th>seg_fare</th>\n      <th>trip_fare</th>\n      <th>ato_org_seg</th>\n      <th>...</th>\n      <th>numero_segmentos_cliente</th>\n      <th>numero_reservas_cliente</th>\n      <th>n_segmentos_business_cliente</th>\n      <th>n_compras_asientos_cliente</th>\n      <th>n_compras_laam_mas_cliente</th>\n      <th>proporcion_compra_asiento_cliente</th>\n      <th>n_canjes_cliente</th>\n      <th>avg_fare_pnr_cliente</th>\n      <th>avg_ap_cliente</th>\n      <th>awarded_flag</th>\n    </tr>\n  </thead>\n  <tbody>\n    <tr>\n      <th>0</th>\n      <td>4622133359811</td>\n      <td>4622133359811</td>\n      <td>4</td>\n      <td>2020-03-11</td>\n      <td>4622133359811_2020-03-11_4</td>\n      <td>185</td>\n      <td>32</td>\n      <td>11.819328</td>\n      <td>93.897993</td>\n      <td>GYE</td>\n      <td>...</td>\n      <td>NaN</td>\n      <td>NaN</td>\n      <td>NaN</td>\n      <td>NaN</td>\n      <td>NaN</td>\n      <td>NaN</td>\n      <td>NaN</td>\n      <td>NaN</td>\n      <td>NaN</td>\n      <td>0</td>\n    </tr>\n    <tr>\n      <th>1</th>\n      <td>4623384943639</td>\n      <td>4623384943639</td>\n      <td>1</td>\n      <td>2020-02-03</td>\n      <td>4623384943639_2020-02-03_1</td>\n      <td>53</td>\n      <td>26</td>\n      <td>182.500000</td>\n      <td>182.500000</td>\n      <td>GYE</td>\n      <td>...</td>\n      <td>NaN</td>\n      <td>NaN</td>\n      <td>NaN</td>\n      <td>NaN</td>\n      <td>NaN</td>\n      <td>NaN</td>\n      <td>NaN</td>\n      <td>NaN</td>\n      <td>NaN</td>\n      <td>0</td>\n    </tr>\n    <tr>\n      <th>2</th>\n      <td>4622133421434</td>\n      <td>4622133421434</td>\n      <td>1</td>\n      <td>2020-09-10</td>\n      <td>4622133421434_2020-09-10_1</td>\n      <td>9</td>\n      <td>43</td>\n      <td>85.000000</td>\n      <td>85.000000</td>\n      <td>GYE</td>\n      <td>...</td>\n      <td>NaN</td>\n      <td>NaN</td>\n      <td>NaN</td>\n      <td>NaN</td>\n      <td>NaN</td>\n      <td>NaN</td>\n      <td>NaN</td>\n      <td>NaN</td>\n      <td>NaN</td>\n      <td>0</td>\n    </tr>\n    <tr>\n      <th>3</th>\n      <td>4622133387250</td>\n      <td>4622133387250</td>\n      <td>1</td>\n      <td>2020-09-09</td>\n      <td>4622133387250_2020-09-09_1</td>\n      <td>100</td>\n      <td>45</td>\n      <td>16.308000</td>\n      <td>76.788000</td>\n      <td>GYE</td>\n      <td>...</td>\n      <td>NaN</td>\n      <td>NaN</td>\n      <td>NaN</td>\n      <td>NaN</td>\n      <td>NaN</td>\n      <td>NaN</td>\n      <td>NaN</td>\n      <td>NaN</td>\n      <td>NaN</td>\n      <td>1</td>\n    </tr>\n    <tr>\n      <th>4</th>\n      <td>4622133415165</td>\n      <td>4622133415165</td>\n      <td>1</td>\n      <td>2020-09-10</td>\n      <td>4622133415165_2020-09-10_1</td>\n      <td>46</td>\n      <td>94</td>\n      <td>108.250000</td>\n      <td>108.250000</td>\n      <td>GYE</td>\n      <td>...</td>\n      <td>NaN</td>\n      <td>NaN</td>\n      <td>NaN</td>\n      <td>NaN</td>\n      <td>NaN</td>\n      <td>NaN</td>\n      <td>NaN</td>\n      <td>NaN</td>\n      <td>NaN</td>\n      <td>0</td>\n    </tr>\n    <tr>\n      <th>...</th>\n      <td>...</td>\n      <td>...</td>\n      <td>...</td>\n      <td>...</td>\n      <td>...</td>\n      <td>...</td>\n      <td>...</td>\n      <td>...</td>\n      <td>...</td>\n      <td>...</td>\n      <td>...</td>\n      <td>...</td>\n      <td>...</td>\n      <td>...</td>\n      <td>...</td>\n      <td>...</td>\n      <td>...</td>\n      <td>...</td>\n      <td>...</td>\n      <td>...</td>\n      <td>...</td>\n    </tr>\n    <tr>\n      <th>2059</th>\n      <td>4622133426878</td>\n      <td>4622133426878</td>\n      <td>2</td>\n      <td>2020-09-10</td>\n      <td>4622133426878_2020-09-10_2</td>\n      <td>48</td>\n      <td>19</td>\n      <td>259.900000</td>\n      <td>259.900000</td>\n      <td>JFK</td>\n      <td>...</td>\n      <td>5.0</td>\n      <td>3.0</td>\n      <td>0.0</td>\n      <td>0.0</td>\n      <td>0.0</td>\n      <td>0.0</td>\n      <td>0.0</td>\n      <td>60.25417</td>\n      <td>32.800000</td>\n      <td>0</td>\n    </tr>\n    <tr>\n      <th>2060</th>\n      <td>4622133426878</td>\n      <td>4622133426878</td>\n      <td>1</td>\n      <td>2020-09-10</td>\n      <td>4622133426878_2020-09-10_1</td>\n      <td>48</td>\n      <td>19</td>\n      <td>208.380000</td>\n      <td>208.380000</td>\n      <td>GYE</td>\n      <td>...</td>\n      <td>5.0</td>\n      <td>3.0</td>\n      <td>0.0</td>\n      <td>0.0</td>\n      <td>0.0</td>\n      <td>0.0</td>\n      <td>0.0</td>\n      <td>60.25417</td>\n      <td>32.800000</td>\n      <td>0</td>\n    </tr>\n    <tr>\n      <th>2061</th>\n      <td>4622133383720</td>\n      <td>4622133383720</td>\n      <td>2</td>\n      <td>2020-09-09</td>\n      <td>4622133383720_2020-09-09_2</td>\n      <td>5</td>\n      <td>20</td>\n      <td>36.000000</td>\n      <td>36.000000</td>\n      <td>CUE</td>\n      <td>...</td>\n      <td>9.0</td>\n      <td>5.0</td>\n      <td>0.0</td>\n      <td>0.0</td>\n      <td>0.0</td>\n      <td>0.0</td>\n      <td>0.0</td>\n      <td>182.73600</td>\n      <td>4.444444</td>\n      <td>0</td>\n    </tr>\n    <tr>\n      <th>2062</th>\n      <td>4622133422066</td>\n      <td>4622133422066</td>\n      <td>3</td>\n      <td>2020-09-10</td>\n      <td>4622133422066_2020-09-10_3</td>\n      <td>25</td>\n      <td>21</td>\n      <td>22.158243</td>\n      <td>419.000000</td>\n      <td>UIO</td>\n      <td>...</td>\n      <td>NaN</td>\n      <td>NaN</td>\n      <td>NaN</td>\n      <td>NaN</td>\n      <td>NaN</td>\n      <td>NaN</td>\n      <td>NaN</td>\n      <td>NaN</td>\n      <td>NaN</td>\n      <td>0</td>\n    </tr>\n    <tr>\n      <th>2063</th>\n      <td>4622133373424</td>\n      <td>4622133373424</td>\n      <td>1</td>\n      <td>2020-09-09</td>\n      <td>4622133373424_2020-09-09_1</td>\n      <td>5</td>\n      <td>22</td>\n      <td>16.800000</td>\n      <td>16.800000</td>\n      <td>UIO</td>\n      <td>...</td>\n      <td>NaN</td>\n      <td>NaN</td>\n      <td>NaN</td>\n      <td>NaN</td>\n      <td>NaN</td>\n      <td>NaN</td>\n      <td>NaN</td>\n      <td>NaN</td>\n      <td>NaN</td>\n      <td>1</td>\n    </tr>\n  </tbody>\n</table>\n<p>2064 rows × 43 columns</p>\n</div>"
     },
     "metadata": {},
     "execution_count": 11
    }
   ],
   "source": [
    "datos"
   ]
  },
  {
   "cell_type": "code",
   "execution_count": null,
   "metadata": {},
   "outputs": [],
   "source": []
  }
 ]
}